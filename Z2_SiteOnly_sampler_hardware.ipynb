{
 "cells": [
  {
   "cell_type": "code",
   "execution_count": 1,
   "id": "159f6373",
   "metadata": {},
   "outputs": [],
   "source": [
    "from qiskit import QuantumCircuit\n",
    "from qiskit.circuit import QuantumRegister,ClassicalRegister\n",
    "from qiskit_machine_learning.neural_networks import EstimatorQNN,SamplerQNN\n",
    "from IPython.display import clear_output\n",
    "import matplotlib.pyplot as plt\n",
    "import qiskit.quantum_info as qi\n",
    "from qiskit.circuit import ParameterVector\n",
    "from qiskit_algorithms.utils import algorithm_globals\n",
    "import time \n",
    "from qiskit.quantum_info import SparsePauliOp\n",
    "from qiskit.circuit.library import EfficientSU2,RealAmplitudes\n",
    "import numpy as np\n",
    "\n",
    "import pickle \n",
    "import time\n",
    "from qiskit.circuit.library import iSwapGate\n",
    "\n",
    "from qiskit_ibm_runtime import QiskitRuntimeService\n",
    "from qiskit_aer import AerSimulator\n",
    "from qiskit.circuit import QuantumCircuit\n",
    "from qiskit.transpiler.preset_passmanagers import generate_preset_pass_manager\n",
    "from qiskit_ibm_runtime import Session, SamplerV2 as Sampler\n",
    "from qiskit_ibm_runtime import QiskitRuntimeService, EstimatorV2 as Estimator\n",
    "from collections import defaultdict\n",
    "import json"
   ]
  },
  {
   "cell_type": "code",
   "execution_count": 2,
   "id": "cc8b2db1",
   "metadata": {},
   "outputs": [],
   "source": [
    "J=1\n",
    "nQ=7\n",
    "n_qubits=3*nQ\n",
    "sqrt_iSWAP = iSwapGate().power(1/2)\n",
    "\n",
    "nShots = 100000 \n",
    "dtFactor=0.2\n",
    "nSteps=10\n",
    "\n",
    "matter_defect = 11\n",
    "f= 5"
   ]
  },
  {
   "cell_type": "code",
   "execution_count": 3,
   "id": "81d7b938",
   "metadata": {},
   "outputs": [],
   "source": [
    "def add3Q(circuit,tmpIndex,alpha=J):\n",
    "    tmpIndex1=(tmpIndex+1)%(n_qubits)\n",
    "    tmpIndex2=(tmpIndex+2)%(n_qubits)\n",
    "    \n",
    "    circuit.append(sqrt_iSWAP, [tmpIndex, tmpIndex1])\n",
    "    circuit.append(sqrt_iSWAP, [tmpIndex, tmpIndex1])\n",
    "    #circuit.barrier()\n",
    "    circuit.rz(np.pi,tmpIndex)\n",
    "    circuit.rz(-np.pi/4,tmpIndex1)\n",
    "    circuit.rz(-np.pi/4,tmpIndex2)\n",
    "    circuit.append(sqrt_iSWAP, [tmpIndex1, tmpIndex2])\n",
    "    \n",
    "    circuit.rz(np.pi-alpha,tmpIndex1)\n",
    "    circuit.rz(alpha,tmpIndex2)\n",
    "    circuit.append(sqrt_iSWAP, [tmpIndex1, tmpIndex2])\n",
    "    circuit.rz(np.pi/4,tmpIndex1)\n",
    "    circuit.rz(np.pi/4,tmpIndex2)\n",
    "    #circuit.barrier()\n",
    "            \n",
    "    circuit.append(sqrt_iSWAP, [tmpIndex, tmpIndex1])\n",
    "    circuit.append(sqrt_iSWAP, [tmpIndex, tmpIndex1])\n",
    "    \n",
    "    \n",
    "def getTrotterCircuit(n_qubits,J,nTrotter=2,fFactor=0.2,dtFactor=0.2,matter_defect=[6,16]):\n",
    "    f=fFactor*J\n",
    "    print(\"f = \",f)\n",
    "    dt=dtFactor/J\n",
    "    \n",
    "    circuit = QuantumCircuit(n_qubits)\n",
    "    #circuit = QuantumCircuit(n_qubits,n_qubits)\n",
    "    \n",
    "    #First produce the initial state:\n",
    "    for i in range(n_qubits):\n",
    "        defect_flag=False\n",
    "\n",
    "        for index in matter_defect:\n",
    "            if i== index - 1:\n",
    "                defect_flag=True\n",
    "\n",
    "        if defect_flag==False:\n",
    "            if i%2!=0:\n",
    "                circuit.h(i)\n",
    "                \n",
    "            else:\n",
    "                circuit.x(i)\n",
    " \n",
    "    #Trotterization:\n",
    "    for step in range(nTrotter):\n",
    "        \n",
    "        circuit.barrier()\n",
    "        \n",
    "        \n",
    "        \n",
    "        for i in range(int(n_qubits/4)):\n",
    "            tmpIndex=i*4\n",
    "            add3Q(circuit,tmpIndex,alpha=J*dt)\n",
    "        circuit.barrier()\n",
    "        \n",
    "        n_end=0# no period\n",
    "        for i in range(int(n_qubits/4)-n_end):\n",
    "            tmpIndex=i*4+2\n",
    "            add3Q(circuit,tmpIndex,alpha=J*dt)\n",
    "        circuit.barrier()\n",
    "        \n",
    "        \n",
    "        \n",
    "        for i in range(int(n_qubits/2)):\n",
    "            tmpIndex=i*2\n",
    "            circuit.rz(0,tmpIndex)\n",
    "            circuit.rx(f*dt,tmpIndex+1)\n",
    "        #Adding last rotation gate if it is an odd number\n",
    "        if tmpIndex+1 == n_qubits-2:\n",
    "            circuit.rz(0,tmpIndex+2)\n",
    "        \n",
    "    for i in range(n_qubits):\n",
    "        if i%2 ==1:\n",
    "            circuit.h(i)\n",
    "    \n",
    "    circuit.measure_all()\n",
    "    return circuit"
   ]
  },
  {
   "cell_type": "code",
   "execution_count": 5,
   "id": "0140cdac",
   "metadata": {},
   "outputs": [
    {
     "data": {
      "text/html": [
       "<pre>&lt;qiskit.providers.models.backendstatus.BackendStatus object at 0x285c28bd0&gt;</pre><b>name</b>: ibm_kawasaki<br/><b>version</b>: , <b>pending jobs</b>: 1<br/><b>status</b>: active<br/>"
      ],
      "text/plain": [
       "<qiskit.providers.models.backendstatus.BackendStatus at 0x285c28bd0>"
      ]
     },
     "execution_count": 5,
     "metadata": {},
     "output_type": "execute_result"
    }
   ],
   "source": [
    "# from qiskit_ibm_runtime import QiskitRuntimeService\n",
    "# # Save an IBM Quantum account and set it as your default account.\n",
    "# #service = QiskitRuntimeService(channel=\"ibm_quantum\",instance=\"utokyo-kawasaki/internal/icepp-r5\",token=\"\")\n",
    "# #QiskitRuntimeService.save_account(channel=\"ibm_quantum\",overwrite=True,instance=\"utokyo-kawasaki/internal/icepp-r5\", token=\"\", set_as_default=True)\n",
    "\n",
    "# service = QiskitRuntimeService()\n",
    "# service.backends()\n",
    "# backend = service.least_busy(operational=True, simulator=False)\n",
    "# pm = generate_preset_pass_manager(backend=backend, optimization_level=3)\n",
    "# backend.status()"
   ]
  },
  {
   "cell_type": "code",
   "execution_count": 6,
   "id": "b514ac61",
   "metadata": {},
   "outputs": [
    {
     "data": {
      "text/html": [
       "<pre>&lt;qiskit.providers.models.backendstatus.BackendStatus object at 0x285c882d0&gt;</pre><b>name</b>: ibm_kawasaki<br/><b>version</b>: , <b>pending jobs</b>: 1<br/><b>status</b>: active<br/>"
      ],
      "text/plain": [
       "<qiskit.providers.models.backendstatus.BackendStatus at 0x285c882d0>"
      ]
     },
     "execution_count": 6,
     "metadata": {},
     "output_type": "execute_result"
    }
   ],
   "source": [
    "backend.status()"
   ]
  },
  {
   "cell_type": "code",
   "execution_count": null,
   "id": "b9ace409",
   "metadata": {},
   "outputs": [],
   "source": []
  },
  {
   "cell_type": "code",
   "execution_count": 11,
   "id": "b0b10205",
   "metadata": {},
   "outputs": [
    {
     "name": "stdout",
     "output_type": "stream",
     "text": [
      "current step =  0\n",
      "f =  5\n",
      "job ID: ctp50bh4gjh0008pmkjg\n",
      "current step =  1\n",
      "f =  5\n",
      "job ID: ctp50c16g3rg0087h9cg\n",
      "current step =  2\n",
      "f =  5\n",
      "job ID: ctp50chx7b5g0080mbqg\n",
      "current step =  3\n",
      "f =  5\n",
      "job ID: ctp50d16g3rg0087h9dg\n",
      "current step =  4\n",
      "f =  5\n",
      "job ID: ctp50dhx7b5g0080mbr0\n",
      "current step =  5\n",
      "f =  5\n",
      "job ID: ctp50e1sj17g00824xzg\n",
      "current step =  6\n",
      "f =  5\n",
      "job ID: ctp50essj17g00824y00\n",
      "current step =  7\n",
      "f =  5\n",
      "job ID: ctp50f9x7b5g0080mbs0\n",
      "current step =  8\n",
      "f =  5\n",
      "job ID: ctp50fsx7b5g0080mbsg\n",
      "current step =  9\n",
      "f =  5\n",
      "job ID: ctp50gjsj17g00824y0g\n"
     ]
    }
   ],
   "source": [
    "\n",
    "# jobs_list = []\n",
    "\n",
    "# with Session(backend=backend) as session:\n",
    "# #     sampler_em = Sampler(mode = session, options={\"resilience_level\": 2})\n",
    "#     sampler_em = Sampler(mode = session)\n",
    "\n",
    "#     sampler_em.options.dynamical_decoupling.enable = True\n",
    "#     sampler_em.options.twirling.enable_gates = True\n",
    "#     #sampler_em.options.resilience.measure_mitigation = True\n",
    "\n",
    "\n",
    "#     for i in range(nSteps):\n",
    "#         print(\"current step = \", i)\n",
    "#         circuit = getTrotterCircuit(n_qubits,J,nTrotter=i,fFactor=f,dtFactor=dtFactor,matter_defect=[matter_defect])\n",
    "#         isa_qc = pm.run(circuit)\n",
    "        \n",
    "    \n",
    "#         job = sampler_em.run([(isa_qc,[])],shots = nShots)\n",
    "\n",
    "        \n",
    "#         jobs_list.append(job)\n",
    "\n",
    "#         print(f\"job ID: {job.job_id()}\")\n",
    "       "
   ]
  },
  {
   "cell_type": "code",
   "execution_count": 7,
   "id": "69063a05",
   "metadata": {},
   "outputs": [],
   "source": [
    "jobs_list = [\n",
    "     service.job(\"ctp50bh4gjh0008pmkjg\"),\n",
    "    service.job(\"ctp50c16g3rg0087h9cg\"),\n",
    "    service.job(\"ctp50chx7b5g0080mbqg\"),\n",
    "    service.job(\"ctp50d16g3rg0087h9dg\"),\n",
    "    service.job(\"ctp50dhx7b5g0080mbr0\"),\n",
    "    service.job(\"ctp50e1sj17g00824xzg\"),\n",
    "    service.job(\"ctp50essj17g00824y00\"),\n",
    "    service.job(\"ctp50f9x7b5g0080mbs0\"),\n",
    "    service.job(\"ctp50fsx7b5g0080mbsg\"),\n",
    "    service.job(\"ctp50gjsj17g00824y0g\")\n",
    "]"
   ]
  },
  {
   "cell_type": "code",
   "execution_count": 8,
   "id": "a06b8000",
   "metadata": {},
   "outputs": [
    {
     "name": "stdout",
     "output_type": "stream",
     "text": [
      "job ID: ctp50bh4gjh0008pmkjg\n",
      "job ID: ctp50c16g3rg0087h9cg\n",
      "job ID: ctp50chx7b5g0080mbqg\n",
      "job ID: ctp50d16g3rg0087h9dg\n",
      "job ID: ctp50dhx7b5g0080mbr0\n",
      "job ID: ctp50e1sj17g00824xzg\n",
      "job ID: ctp50essj17g00824y00\n",
      "job ID: ctp50f9x7b5g0080mbs0\n",
      "job ID: ctp50fsx7b5g0080mbsg\n",
      "job ID: ctp50gjsj17g00824y0g\n"
     ]
    }
   ],
   "source": [
    "string_list = []\n",
    "for job in jobs_list:\n",
    "    r = job.result()\n",
    "    string = r[0].data.meas.get_counts()\n",
    "    string_list.append(string)\n",
    "    print(f\"job ID: {job.job_id()}\")\n",
    "    "
   ]
  },
  {
   "cell_type": "code",
   "execution_count": null,
   "id": "1d5ea69a",
   "metadata": {},
   "outputs": [],
   "source": []
  },
  {
   "cell_type": "code",
   "execution_count": null,
   "id": "d50e04d6",
   "metadata": {},
   "outputs": [],
   "source": []
  },
  {
   "cell_type": "code",
   "execution_count": null,
   "id": "254e6bba",
   "metadata": {},
   "outputs": [],
   "source": []
  },
  {
   "cell_type": "code",
   "execution_count": 9,
   "id": "9e2d6d75",
   "metadata": {},
   "outputs": [],
   "source": [
    "\n",
    "with open(f'stringList_{matter_defect}_{f}.json', 'w') as fout:\n",
    "    json.dump(string_list, fout)\n",
    "    \n",
    "    \n",
    "with open(f'stringList_{matter_defect}_{f}.json', 'r') as fin:\n",
    "     string_list_all = json.load(fin)\n"
   ]
  },
  {
   "cell_type": "code",
   "execution_count": 10,
   "id": "23e15bf2",
   "metadata": {},
   "outputs": [],
   "source": [
    "def checkZ2Charge(key):\n",
    "    charge = []\n",
    "    firstCharge_pos = 0\n",
    "    for i in np.arange(0,len(key),1): # Assuming first and last are matter site.\n",
    "        #assuming matter sites are all even\n",
    "        #it is backward!\n",
    "\n",
    "        if i%2 == 0:\n",
    "            charge.append(int(key[i]))\n",
    "            if int(key[i]) == 0:\n",
    "                firstCharge_pos = i \n",
    "            \n",
    "    charge = np.array(charge)\n",
    "\n",
    "    return charge.sum(),firstCharge_pos,charge"
   ]
  },
  {
   "cell_type": "code",
   "execution_count": 11,
   "id": "69117f9e",
   "metadata": {},
   "outputs": [
    {
     "data": {
      "text/plain": [
       "'0'"
      ]
     },
     "execution_count": 11,
     "metadata": {},
     "output_type": "execute_result"
    }
   ],
   "source": [
    "initial_charge = 10\n",
    "key = list(string_list_all[0].keys())[0]\n",
    "initial_charge_position = n_qubits-matter_defect\n",
    "\n",
    "initialKey = '101010101000101010101'\n",
    "initialKey[initial_charge_position]\n"
   ]
  },
  {
   "cell_type": "code",
   "execution_count": 12,
   "id": "47ee9f37",
   "metadata": {},
   "outputs": [],
   "source": [
    "def getEVs(string,wiggleRoom = 0,initialKey = initialKey):\n",
    "    out = np.zeros(n_qubits)\n",
    "    shots = 0\n",
    "    \n",
    "    n_charge = []\n",
    "    \n",
    "    for key in list(string.keys()):\n",
    "                \n",
    "        \n",
    "        charge, charge_position,charge_arr = checkZ2Charge(key)\n",
    "        for j in range(string[key]):\n",
    "            n_charge.append(charge - initial_charge)\n",
    "        \n",
    "        if abs(charge - initial_charge) > wiggleRoom:\n",
    "            continue\n",
    "\n",
    "        tmpKey = np.array([int(numeric_string) for numeric_string in initialKey])  \n",
    "\n",
    "        if charge_position == initial_charge_position:\n",
    "            tmpKey = tmpKey #do nothing\n",
    "\n",
    "        else:\n",
    "            tmpKey[initial_charge_position] = 1\n",
    "            tmpKey[charge_position] = 0\n",
    "            #then flip the links\n",
    "            \n",
    "            if charge_position > initial_charge_position:\n",
    "                for pos in np.arange(initial_charge_position+1,charge_position,1):\n",
    "                    if pos%2 ==1: #flip link\n",
    "                        tmpKey[pos] = 1\n",
    "                        \n",
    "            else:\n",
    "                for pos in np.arange(charge_position+1, initial_charge_position,1):\n",
    "            \n",
    "                    if pos%2 ==1: #flip link\n",
    "                        tmpKey[pos] = 1\n",
    "                  \n",
    "  \n",
    "        arr = 1 -2*tmpKey #|0> to have eigenValue of 1, and |1> to have -1.\n",
    "        \n",
    "        for i in range(arr.shape[0]): #introduce a negative sign for all the matter site\n",
    "            if i%2==0:\n",
    "                arr[i] = -arr[i]\n",
    "        \n",
    "\n",
    "        out += arr*string[key]\n",
    "        shots += string[key]\n",
    "    output = out/shots\n",
    "    \n",
    "    return (output+1)/2, np.array(n_charge)"
   ]
  },
  {
   "cell_type": "code",
   "execution_count": 13,
   "id": "6c410ba1",
   "metadata": {},
   "outputs": [],
   "source": [
    "wiggle_room = 0\n",
    "evs_list = []\n",
    "\n",
    "for string in string_list_all:\n",
    "    evs_list.append(getEVs(string)[0])\n",
    "    \n",
    "evs_list = np.array(evs_list)"
   ]
  },
  {
   "cell_type": "code",
   "execution_count": 14,
   "id": "8a6b646f",
   "metadata": {},
   "outputs": [],
   "source": [
    "\n",
    "    \n",
    "from matplotlib import colormaps\n",
    "list(colormaps)\n",
    "cmap = 'gist_heat'\n"
   ]
  },
  {
   "cell_type": "code",
   "execution_count": 15,
   "id": "9e891403",
   "metadata": {},
   "outputs": [
    {
     "data": {
      "text/plain": [
       "<Figure size 640x480 with 0 Axes>"
      ]
     },
     "metadata": {},
     "output_type": "display_data"
    },
    {
     "data": {
      "image/png": "[encoded data removed]",
      "text/plain": [
       "<Figure size 1000x1000 with 2 Axes>"
      ]
     },
     "metadata": {},
     "output_type": "display_data"
    }
   ],
   "source": [
    "\n",
    "LabelSize=30\n",
    "plt.figure(1)\n",
    "plt.figure(figsize=(10,10))\n",
    "plt.imshow(evs_list, interpolation='none',origin='lower',cmap = cmap)\n",
    "\n",
    "y=dtFactor*J*np.arange(0,len(evs_list),1)\n",
    "plt.yticks(range(len(y)), np.round(y,2))\n",
    "plt.xlabel('qubits',fontsize=LabelSize)\n",
    "plt.ylabel(r'$tJ$',fontsize=LabelSize)\n",
    "plt.tick_params(axis='both', which='major', labelsize=LabelSize)\n",
    "plt.colorbar(fraction=0.03, pad=0.08)\n",
    "plt.savefig(f\"deconf_{f}_siteOnly.png\", dpi=100,bbox_inches='tight')\n"
   ]
  },
  {
   "cell_type": "code",
   "execution_count": 16,
   "id": "ebb56d3c",
   "metadata": {},
   "outputs": [
    {
     "data": {
      "text/plain": [
       "5"
      ]
     },
     "execution_count": 16,
     "metadata": {},
     "output_type": "execute_result"
    }
   ],
   "source": [
    "f"
   ]
  },
  {
   "cell_type": "code",
   "execution_count": null,
   "id": "0341e2d3",
   "metadata": {},
   "outputs": [],
   "source": []
  },
  {
   "cell_type": "code",
   "execution_count": null,
   "id": "970244a4",
   "metadata": {},
   "outputs": [],
   "source": []
  },
  {
   "cell_type": "code",
   "execution_count": 17,
   "id": "50a0a32d",
   "metadata": {},
   "outputs": [
    {
     "data": {
      "image/png": "[encoded data removed]",
      "text/plain": [
       "<Figure size 640x480 with 1 Axes>"
      ]
     },
     "metadata": {},
     "output_type": "display_data"
    }
   ],
   "source": [
    "n_string_list = -1\n",
    "n_sites = 11\n",
    "o,n_charge_diff = getEVs(string_list_all[n_string_list])\n",
    "a = plt.hist(-n_charge_diff,bins = np.arange(-1,11,1))\n",
    "dCharge_counts = a[0]"
   ]
  },
  {
   "cell_type": "code",
   "execution_count": null,
   "id": "4c30ac97",
   "metadata": {},
   "outputs": [],
   "source": []
  },
  {
   "cell_type": "code",
   "execution_count": 18,
   "id": "5cb44d68",
   "metadata": {},
   "outputs": [],
   "source": [
    "err_avg = (dCharge_counts *(a[1][0:-1]+a[1][1:])/2).sum()/dCharge_counts.sum()\n",
    "E = err_avg/n_sites"
   ]
  },
  {
   "cell_type": "code",
   "execution_count": 19,
   "id": "328004f5",
   "metadata": {},
   "outputs": [],
   "source": [
    "n_shots0 = dCharge_counts[1]"
   ]
  },
  {
   "cell_type": "code",
   "execution_count": 20,
   "id": "e62f3b4f",
   "metadata": {},
   "outputs": [],
   "source": [
    "b = E*(11-1)*E*(1-E)**(11-2)\n",
    "a = (1-E)**(11-1)\n",
    "fake_rate = b/(a+b)"
   ]
  },
  {
   "cell_type": "code",
   "execution_count": 21,
   "id": "777432b2",
   "metadata": {},
   "outputs": [],
   "source": [
    "charge_list = []\n",
    "for i in range(evs_list[n_string_list].shape[0]):\n",
    "    if i%2 == 0:\n",
    "        charge_list.append(evs_list[n_string_list][i])\n",
    "charge_list = np.array(charge_list)"
   ]
  },
  {
   "cell_type": "code",
   "execution_count": 22,
   "id": "88f0a386",
   "metadata": {},
   "outputs": [
    {
     "data": {
      "text/plain": [
       "[<matplotlib.lines.Line2D at 0x287974590>]"
      ]
     },
     "execution_count": 22,
     "metadata": {},
     "output_type": "execute_result"
    },
    {
     "data": {
      "image/png": "[encoded data removed]",
      "text/plain": [
       "<Figure size 640x480 with 1 Axes>"
      ]
     },
     "metadata": {},
     "output_type": "display_data"
    }
   ],
   "source": [
    "plt.plot(charge_list)"
   ]
  },
  {
   "cell_type": "code",
   "execution_count": 23,
   "id": "eb5087c4",
   "metadata": {},
   "outputs": [
    {
     "name": "stdout",
     "output_type": "stream",
     "text": [
      "[0.02762431 0.04841524 0.04361733 0.04565281 0.05524862 0.0898517\n",
      " 0.04943297 0.0457982  0.03634778 0.03387613 0.02413492]\n"
     ]
    }
   ],
   "source": [
    "\n",
    "\n",
    "p = (1-charge_list)/2\n",
    "print(p)\n",
    "n0=p*n_shots0\n",
    "n1=(1-p)*n_shots0\n",
    "\n"
   ]
  },
  {
   "cell_type": "code",
   "execution_count": 24,
   "id": "6a3b652b",
   "metadata": {},
   "outputs": [
    {
     "data": {
      "text/plain": [
       "[<matplotlib.lines.Line2D at 0x286388110>]"
      ]
     },
     "execution_count": 24,
     "metadata": {},
     "output_type": "execute_result"
    },
    {
     "data": {
      "image/png": "[encoded data removed]",
      "text/plain": [
       "<Figure size 640x480 with 1 Axes>"
      ]
     },
     "metadata": {},
     "output_type": "display_data"
    }
   ],
   "source": [
    "plt.plot(p)\n",
    "plt.plot(p/p.sum())"
   ]
  },
  {
   "cell_type": "code",
   "execution_count": 25,
   "id": "2dc74519",
   "metadata": {},
   "outputs": [],
   "source": [
    "\n",
    "fake_contribution = n_shots0 * fake_rate\n",
    "\n",
    "# n0 = n0 - fake_contribution/11\n"
   ]
  },
  {
   "cell_type": "code",
   "execution_count": 26,
   "id": "2e3fb582",
   "metadata": {},
   "outputs": [
    {
     "data": {
      "text/plain": [
       "195.3854033441018"
      ]
     },
     "execution_count": 26,
     "metadata": {},
     "output_type": "execute_result"
    }
   ],
   "source": [
    "n_shots0*fake_rate/11"
   ]
  },
  {
   "cell_type": "code",
   "execution_count": 27,
   "id": "a035d936",
   "metadata": {},
   "outputs": [],
   "source": [
    "string = string_list_all[n_string_list]\n",
    "n_err = 3\n",
    "charge_arr_n1 = []\n",
    "charge_arr_0 = []\n",
    "charge_arr_large = []\n",
    "charge_arr_bits = []\n",
    "\n",
    "\n",
    "for key in list(string.keys()):\n",
    "\n",
    "        charge, charge_position,charge_arr = checkZ2Charge(key)\n",
    "        if charge - initial_charge == -1:\n",
    "            for j in range(string[key]):\n",
    "                charge_arr_n1.append(np.where(charge_arr == 0)[0])\n",
    "            \n",
    "        if charge - initial_charge == -n_err:\n",
    "            \n",
    "            for j in range(string[key]):\n",
    "                charge_arr_large.append(np.where(charge_arr == 0)[0])\n",
    "            \n",
    "        if charge - initial_charge == 0:\n",
    "            for j in range(string[key]):\n",
    "                #print(charge_position,np.where(charge_arr == 0)[0])\n",
    "                #charge_arr_0.append(np.where(charge_arr == 0)[0])\n",
    "                charge_arr_0.append(charge_position/2)\n",
    "\n",
    "                arr_bits = np.ones(11)\n",
    "                arr_bits[int(charge_position/2)]=0\n",
    "                charge_arr_bits.append(arr_bits)\n",
    "           \n",
    "            \n",
    "charge_arr_n1 = np.array(charge_arr_n1)\n",
    "charge_arr_0 = np.array(charge_arr_0)\n",
    "charge_arr_large = np.array(charge_arr_large)\n",
    "charge_arr_bits=np.array(charge_arr_bits)"
   ]
  },
  {
   "cell_type": "code",
   "execution_count": 28,
   "id": "d479ee40",
   "metadata": {},
   "outputs": [
    {
     "data": {
      "text/plain": [
       "<matplotlib.legend.Legend at 0x2879c0b90>"
      ]
     },
     "execution_count": 28,
     "metadata": {},
     "output_type": "execute_result"
    },
    {
     "data": {
      "image/png": "[encoded data removed]",
      "text/plain": [
       "<Figure size 640x480 with 1 Axes>"
      ]
     },
     "metadata": {},
     "output_type": "display_data"
    }
   ],
   "source": [
    "\n",
    "alarge = plt.hist(charge_arr_large.flatten(),histtype='step',label=8,bins=np.arange(0,12,1),weights = np.ones(charge_arr_large.flatten().shape[0])/charge_arr_large.flatten().shape[0]);\n",
    "a0 = plt.hist(charge_arr_0.flatten(),histtype='step',label=n_err,bins=np.arange(0,12,1),weights = np.ones(charge_arr_0.flatten().shape[0])/charge_arr_0.flatten().shape[0]);\n",
    "plt.plot(n0/n0.sum())\n",
    "plt.legend()"
   ]
  },
  {
   "cell_type": "code",
   "execution_count": null,
   "id": "47e9d365",
   "metadata": {},
   "outputs": [],
   "source": []
  },
  {
   "cell_type": "code",
   "execution_count": 29,
   "id": "f2c7b4fa",
   "metadata": {},
   "outputs": [],
   "source": [
    "#find the part that is zero:\n",
    "n_0_measured = n_shots0 * p\n",
    "\n",
    "#fakes in it:\n",
    "n_0_fake_all = (n_0_measured*fake_rate).sum()\n",
    "n_0_fake = np.ones(11)*n_0_fake_all/11\n",
    "\n",
    "n_0_truth =  n_0_measured - n_0_fake"
   ]
  },
  {
   "cell_type": "code",
   "execution_count": null,
   "id": "8d961488",
   "metadata": {},
   "outputs": [],
   "source": []
  },
  {
   "cell_type": "code",
   "execution_count": 30,
   "id": "1dfc7a54",
   "metadata": {},
   "outputs": [
    {
     "data": {
      "text/plain": [
       "<matplotlib.legend.Legend at 0x28fb96710>"
      ]
     },
     "execution_count": 30,
     "metadata": {},
     "output_type": "execute_result"
    },
    {
     "data": {
      "image/png": "[encoded data removed]",
      "text/plain": [
       "<Figure size 640x480 with 1 Axes>"
      ]
     },
     "metadata": {},
     "output_type": "display_data"
    }
   ],
   "source": [
    "\n",
    "plt.plot(n_0_truth/n_0_truth.sum(),label='truth')\n",
    "plt.plot(n0/n0.sum(),label='measured')\n",
    "plt.legend()"
   ]
  },
  {
   "cell_type": "code",
   "execution_count": 31,
   "id": "45a51f97",
   "metadata": {},
   "outputs": [],
   "source": [
    "truth_rate = 1-fake_rate\n",
    "new_shots = n_shots0 * truth_rate\n",
    "new_charge_counts = - ( n_0_truth  - (new_shots  - n_0_truth) )/new_shots \n",
    "# new_nShots0 = (n_shots0*0.35)\n",
    "# new_charge_counts = - (new_nShots0*)"
   ]
  },
  {
   "cell_type": "code",
   "execution_count": 32,
   "id": "05d5d624",
   "metadata": {},
   "outputs": [
    {
     "data": {
      "text/plain": [
       "<matplotlib.legend.Legend at 0x290140b90>"
      ]
     },
     "execution_count": 32,
     "metadata": {},
     "output_type": "execute_result"
    },
    {
     "data": {
      "image/png": "[encoded data removed]",
      "text/plain": [
       "<Figure size 640x480 with 1 Axes>"
      ]
     },
     "metadata": {},
     "output_type": "display_data"
    }
   ],
   "source": [
    "plt.plot(new_charge_counts,label='new')\n",
    "\n",
    "plt.plot(charge_list,label='old')\n",
    "plt.legend()"
   ]
  },
  {
   "cell_type": "code",
   "execution_count": null,
   "id": "fc056fb8",
   "metadata": {},
   "outputs": [],
   "source": []
  },
  {
   "cell_type": "code",
   "execution_count": null,
   "id": "e04b4d0d",
   "metadata": {},
   "outputs": [],
   "source": []
  },
  {
   "cell_type": "code",
   "execution_count": null,
   "id": "adb6126b",
   "metadata": {},
   "outputs": [],
   "source": []
  },
  {
   "cell_type": "code",
   "execution_count": null,
   "id": "bba42d94",
   "metadata": {},
   "outputs": [],
   "source": []
  },
  {
   "cell_type": "code",
   "execution_count": null,
   "id": "859ac357",
   "metadata": {},
   "outputs": [],
   "source": []
  },
  {
   "cell_type": "code",
   "execution_count": null,
   "id": "b4c46e80",
   "metadata": {},
   "outputs": [],
   "source": []
  },
  {
   "cell_type": "code",
   "execution_count": null,
   "id": "b2c66ff1",
   "metadata": {},
   "outputs": [],
   "source": []
  },
  {
   "cell_type": "code",
   "execution_count": null,
   "id": "43863a37",
   "metadata": {},
   "outputs": [],
   "source": []
  },
  {
   "cell_type": "code",
   "execution_count": null,
   "id": "c3a1fed9",
   "metadata": {},
   "outputs": [],
   "source": []
  },
  {
   "cell_type": "code",
   "execution_count": null,
   "id": "6b7270f6",
   "metadata": {},
   "outputs": [],
   "source": [
    "# nIter = 50000\n",
    "# n_ones_list = []\n",
    "# qubits = np.ones(11)\n",
    "# charge_ind = 1\n",
    "# qubits[charge_ind] = 0\n",
    "\n",
    "# for i in range(nIter):\n",
    "#     n_ones = 10\n",
    "\n",
    "#     for j in range(qubits.shape[0]):\n",
    "\n",
    "#         r = np.random.rand(1)[0]\n",
    "        \n",
    "#         if r <= E:\n",
    "#             change_flag = True\n",
    "\n",
    "#             if j == charge_ind:\n",
    "                \n",
    "#                 n_ones+=1\n",
    "\n",
    "#             else:\n",
    "#                 n_ones-=1\n",
    "            \n",
    "\n",
    "  \n",
    "#     n_ones_list.append(n_ones)\n",
    "# n_ones_list = np.array(n_ones_list)  \n",
    "\n",
    "# n_ones_diff = (10 - n_ones_list)\n",
    "# bins = np.arange(-2,13,0.2)\n",
    "# a = plt.hist(n_ones_diff,bins = bins,histtype='step',weights = np.ones(n_ones_diff.shape[0])/n_ones_diff.shape[0]);\n",
    "\n",
    "# xx = np.array([-1. , 0. ,  1. ,  2. ,  3. ,  4. ,\n",
    "#         5. ,   6. ,   7. ,    8. ,    9. ])\n",
    "\n",
    "# plt.scatter(xx,dCharge_counts/dCharge_counts.sum());"
   ]
  },
  {
   "cell_type": "code",
   "execution_count": null,
   "id": "6679d4c2",
   "metadata": {},
   "outputs": [],
   "source": []
  },
  {
   "cell_type": "code",
   "execution_count": null,
   "id": "4c84f1ee",
   "metadata": {},
   "outputs": [],
   "source": []
  },
  {
   "cell_type": "code",
   "execution_count": null,
   "id": "f2b9c9f0",
   "metadata": {},
   "outputs": [],
   "source": []
  },
  {
   "cell_type": "code",
   "execution_count": null,
   "id": "e5d701b4",
   "metadata": {},
   "outputs": [],
   "source": []
  },
  {
   "cell_type": "code",
   "execution_count": null,
   "id": "a028bfb1",
   "metadata": {},
   "outputs": [],
   "source": []
  },
  {
   "cell_type": "code",
   "execution_count": null,
   "id": "60e4f243",
   "metadata": {
    "scrolled": false
   },
   "outputs": [],
   "source": [
    "wiggle_room = 0\n",
    "\n",
    "evs_list = []\n",
    "for string in string_list_all:\n",
    "    evs_list.append(getEVs(string)[0])\n"
   ]
  },
  {
   "cell_type": "code",
   "execution_count": null,
   "id": "7b38c4cf",
   "metadata": {},
   "outputs": [],
   "source": [
    "wiggle_room = 0\n",
    "\n",
    "evs_list = []\n",
    "for string in string_list_all:\n",
    "    evs_list.append(getEVs(string)[0])\n",
    "\n",
    "    \n",
    "from matplotlib import colormaps\n",
    "list(colormaps)\n",
    "cmap = 'gist_heat'\n",
    "\n",
    "LabelSize=30\n",
    "plt.figure(1)\n",
    "plt.figure(figsize=(10,10))\n",
    "plt.imshow(evs_list, interpolation='none',origin='lower',cmap = cmap)\n",
    "\n",
    "y=dtFactor*J*np.arange(0,len(evs_list),1)\n",
    "plt.yticks(range(len(y)), np.round(y,2))\n",
    "plt.xlabel('qubits',fontsize=LabelSize)\n",
    "plt.ylabel(r'$tJ$',fontsize=LabelSize)\n",
    "plt.tick_params(axis='both', which='major', labelsize=LabelSize)\n",
    "plt.colorbar(fraction=0.03, pad=0.08)\n",
    "plt.savefig(f\"deconf_{f}_siteOnly.png\", dpi=100,bbox_inches='tight')"
   ]
  },
  {
   "cell_type": "code",
   "execution_count": null,
   "id": "9d01db30",
   "metadata": {},
   "outputs": [],
   "source": [
    "LabelSize=30\n",
    "plt.figure(1)\n",
    "plt.figure(figsize=(10,10))\n",
    "plt.imshow(evs_list, interpolation='none',origin='lower',cmap = cmap)\n",
    "\n",
    "y=dtFactor*J*np.arange(0,len(evs_list),1)\n",
    "plt.yticks(range(len(y)), np.round(y,2))\n",
    "plt.xlabel('qubits',fontsize=LabelSize)\n",
    "plt.ylabel(r'$tJ$',fontsize=LabelSize)\n",
    "plt.tick_params(axis='both', which='major', labelsize=LabelSize)\n",
    "plt.colorbar(fraction=0.03, pad=0.08)\n",
    "plt.savefig(f\"deconf_{f}_siteOnly.png\", dpi=100,bbox_inches='tight')"
   ]
  },
  {
   "cell_type": "code",
   "execution_count": null,
   "id": "fa5fa30e",
   "metadata": {},
   "outputs": [],
   "source": [
    "plt.plot(evs_list[-7],label = -7)\n",
    "plt.plot(evs_list[-5],label = -5)\n",
    "plt.plot(evs_list[-3],label = -3)\n",
    "plt.plot(evs_list[-1],label = -1)\n",
    "#plt.ylim(0,1)\n",
    "plt.grid()\n",
    "plt.legend()"
   ]
  },
  {
   "cell_type": "code",
   "execution_count": null,
   "id": "22ba0aa2",
   "metadata": {},
   "outputs": [],
   "source": [
    "charge_list = []\n",
    "for i in range(evs_list[n_string_list].shape[0]):\n",
    "    if i%2 == 0:\n",
    "        charge_list.append(evs_list[n_string_list][i])\n",
    "charge_list = np.array(charge_list)"
   ]
  },
  {
   "cell_type": "code",
   "execution_count": null,
   "id": "5c145371",
   "metadata": {},
   "outputs": [],
   "source": [
    "charge_list_5 = []\n",
    "nnn = 8\n",
    "for i in range(evs_list[nnn].shape[0]):\n",
    "    if i%2 == 0:\n",
    "        charge_list_5.append(evs_list[nnn][i])\n",
    "charge_list_5 = np.array(charge_list_5)"
   ]
  },
  {
   "cell_type": "code",
   "execution_count": null,
   "id": "95843ab6",
   "metadata": {},
   "outputs": [],
   "source": [
    "plt.plot(charge_list,label=-1)\n",
    "plt.plot(charge_list_5,label = nnn)\n",
    "plt.legend()"
   ]
  },
  {
   "cell_type": "code",
   "execution_count": null,
   "id": "6580e827",
   "metadata": {},
   "outputs": [],
   "source": [
    "n_shots0 = 3223"
   ]
  },
  {
   "cell_type": "code",
   "execution_count": null,
   "id": "38f29ffd",
   "metadata": {},
   "outputs": [],
   "source": [
    "d = 1-charge_list"
   ]
  },
  {
   "cell_type": "code",
   "execution_count": null,
   "id": "9948fa0e",
   "metadata": {},
   "outputs": [],
   "source": [
    "d = 1-charge_list\n",
    "\n",
    "n1 = (charge_list+d/2)*n_shots0\n",
    "n0 = (d/2)*n_shots0\n",
    "print(n0)\n",
    "print(n1)"
   ]
  },
  {
   "cell_type": "code",
   "execution_count": null,
   "id": "10f9e101",
   "metadata": {},
   "outputs": [],
   "source": [
    "(n1-n0)/n_shots0"
   ]
  },
  {
   "cell_type": "code",
   "execution_count": null,
   "id": "253f3033",
   "metadata": {},
   "outputs": [],
   "source": [
    "#According to noise, 65% is fake, fake gives ~ uniform distrbution\n",
    "fake_contribution = n_shots0 *0.65\n",
    "\n",
    "n0 = n0 - fake_contribution/11\n"
   ]
  },
  {
   "cell_type": "code",
   "execution_count": null,
   "id": "ecda07f2",
   "metadata": {},
   "outputs": [],
   "source": [
    "fake_contribution/11"
   ]
  },
  {
   "cell_type": "code",
   "execution_count": null,
   "id": "c875fb9e",
   "metadata": {},
   "outputs": [],
   "source": [
    "n1"
   ]
  },
  {
   "cell_type": "code",
   "execution_count": null,
   "id": "e6570fc9",
   "metadata": {},
   "outputs": [],
   "source": []
  },
  {
   "cell_type": "code",
   "execution_count": null,
   "id": "7b67b361",
   "metadata": {},
   "outputs": [],
   "source": []
  },
  {
   "cell_type": "code",
   "execution_count": null,
   "id": "5b65ee24",
   "metadata": {},
   "outputs": [],
   "source": []
  },
  {
   "cell_type": "code",
   "execution_count": null,
   "id": "e6950c50",
   "metadata": {},
   "outputs": [],
   "source": []
  },
  {
   "cell_type": "code",
   "execution_count": null,
   "id": "0bfc038e",
   "metadata": {},
   "outputs": [],
   "source": []
  },
  {
   "cell_type": "code",
   "execution_count": null,
   "id": "449625ce",
   "metadata": {},
   "outputs": [],
   "source": [
    "string = string_list_all[n_string_list]\n",
    "n_err = 3\n",
    "charge_arr_n1 = []\n",
    "charge_arr_0 = []\n",
    "charge_arr_large = []\n",
    "charge_arr_bits = []\n",
    "for key in list(string.keys()):\n",
    "\n",
    "        charge, charge_position,charge_arr = checkZ2Charge(key)\n",
    "        if charge - initial_charge == -1:\n",
    "            for j in range(string[key]):\n",
    "                charge_arr_n1.append(np.where(charge_arr == 0)[0])\n",
    "            \n",
    "        if charge - initial_charge == -n_err:\n",
    "            \n",
    "            for j in range(string[key]):\n",
    "                charge_arr_large.append(np.where(charge_arr == 0)[0])\n",
    "            \n",
    "        if charge - initial_charge == 0:\n",
    "            for j in range(string[key]):\n",
    "                #print(charge_position,np.where(charge_arr == 0)[0])\n",
    "                #charge_arr_0.append(np.where(charge_arr == 0)[0])\n",
    "                charge_arr_0.append(charge_position/2)\n",
    "\n",
    "                arr_bits = np.ones(11)\n",
    "                arr_bits[int(charge_position/2)]=0\n",
    "                charge_arr_bits.append(arr_bits)\n",
    "           \n",
    "            \n",
    "charge_arr_n1 = np.array(charge_arr_n1)\n",
    "charge_arr_0 = np.array(charge_arr_0)\n",
    "charge_arr_large = np.array(charge_arr_large)\n",
    "charge_arr_bits=np.array(charge_arr_bits)"
   ]
  },
  {
   "cell_type": "code",
   "execution_count": null,
   "id": "15b72e0d",
   "metadata": {},
   "outputs": [],
   "source": [
    "plt.hist(charge_pos_list/2,bins=np.arange(0,12,1));"
   ]
  },
  {
   "cell_type": "code",
   "execution_count": null,
   "id": "21692617",
   "metadata": {},
   "outputs": [],
   "source": []
  },
  {
   "cell_type": "code",
   "execution_count": null,
   "id": "33e229da",
   "metadata": {},
   "outputs": [],
   "source": [
    "#plt.hist(charge_arr_n1.flatten(),histtype='step');\n",
    "alarge = plt.hist(charge_arr_large.flatten(),histtype='step',label=8,bins=np.arange(0,12,1),weights = np.ones(charge_arr_large.flatten().shape[0])/charge_arr_large.flatten().shape[0]);\n",
    "a0 = plt.hist(charge_arr_0.flatten(),histtype='step',label=n_err,bins=np.arange(0,12,1),weights = np.ones(charge_arr_0.flatten().shape[0])/charge_arr_0.flatten().shape[0]);\n",
    "#plt.hist(charge_pos_list/2,bins=np.arange(0,12,1));\n",
    "plt.legend()"
   ]
  },
  {
   "cell_type": "code",
   "execution_count": null,
   "id": "e89a76db",
   "metadata": {},
   "outputs": [],
   "source": [
    "charge_counts_0 = n_shots0*a0[0]\n",
    "charge_counts_0_fake = n_shots0*0.65*alarge[0]\n",
    "#charge_counts_0_fake = n_shots0*0.65*np.ones_like(a0[0])/11"
   ]
  },
  {
   "cell_type": "code",
   "execution_count": null,
   "id": "e48df91a",
   "metadata": {},
   "outputs": [],
   "source": [
    "charge_counts_0_truth = charge_counts_0 - charge_counts_0_fake\n",
    "plt.plot(charge_counts_0_truth/charge_counts_0_truth.sum())"
   ]
  },
  {
   "cell_type": "code",
   "execution_count": null,
   "id": "0ec13c87",
   "metadata": {},
   "outputs": [],
   "source": [
    "plt.plot(charge_counts_0_truth/charge_counts_0_truth.sum())"
   ]
  },
  {
   "cell_type": "code",
   "execution_count": null,
   "id": "adb0220f",
   "metadata": {},
   "outputs": [],
   "source": [
    "new_charge_counts = - ( charge_counts_0_truth  - (n_shots0*0.35 - charge_counts_0_truth) )/(n_shots0*0.35)"
   ]
  },
  {
   "cell_type": "code",
   "execution_count": null,
   "id": "84a10785",
   "metadata": {},
   "outputs": [],
   "source": [
    "\n",
    "\n",
    "n_shots0"
   ]
  },
  {
   "cell_type": "code",
   "execution_count": null,
   "id": "1ff6d1b6",
   "metadata": {},
   "outputs": [],
   "source": [
    "plt.plot(new_charge_counts)\n",
    "plt.plot(charge_list)"
   ]
  },
  {
   "cell_type": "code",
   "execution_count": null,
   "id": "94d61982",
   "metadata": {},
   "outputs": [],
   "source": [
    "charge_counts_0"
   ]
  },
  {
   "cell_type": "code",
   "execution_count": null,
   "id": "4e898f34",
   "metadata": {},
   "outputs": [],
   "source": []
  },
  {
   "cell_type": "code",
   "execution_count": null,
   "id": "7d86a563",
   "metadata": {},
   "outputs": [],
   "source": []
  },
  {
   "cell_type": "code",
   "execution_count": null,
   "id": "9660febb",
   "metadata": {},
   "outputs": [],
   "source": []
  },
  {
   "cell_type": "code",
   "execution_count": null,
   "id": "d55ed0b6",
   "metadata": {},
   "outputs": [],
   "source": []
  }
 ],
 "metadata": {
  "kernelspec": {
   "display_name": "qc1.0",
   "language": "python",
   "name": "qc1.0"
  },
  "language_info": {
   "codemirror_mode": {
    "name": "ipython",
    "version": 3
   },
   "file_extension": ".py",
   "mimetype": "text/x-python",
   "name": "python",
   "nbconvert_exporter": "python",
   "pygments_lexer": "ipython3",
   "version": "3.11.5"
  }
 },
 "nbformat": 4,
 "nbformat_minor": 5
}
